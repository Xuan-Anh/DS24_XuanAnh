{
 "cells": [
  {
   "cell_type": "markdown",
   "metadata": {
    "colab_type": "text",
    "id": "Ps5x-gYUCf9_"
   },
   "source": [
    "# Handwritten Digits Classification"
   ]
  },
  {
   "cell_type": "markdown",
   "metadata": {
    "colab_type": "text",
    "id": "0glR10XBCxNy"
   },
   "source": [
    "## Overview\n",
    "\n",
    "The MNIST database (Modified National Institute of Standards and Technology database) is a large database of handwritten digits that is commonly used for training various image processing systems. MNIST is like the \"Hello World\" of machine learning with which you can try out a few machine learning algorithms.\n",
    "\n",
    "![](https://upload.wikimedia.org/wikipedia/commons/2/27/MnistExamples.png)\n",
    "\n",
    "Each image is 28 pixels in height and 28 pixels in width, for a total of 784 pixels in total. Each pixel has a single pixel-value associated with it, indicating the lightness or darkness of that pixel, with higher numbers meaning lighter. This pixel-value is an integer between 0 and 255, inclusive.\n",
    "\n",
    "Visually, if we omit the \"pixel\" prefix, the pixels make up the image like this:\n",
    "```\n",
    "000 001 002 003 ... 026 027\n",
    "028 029 030 031 ... 054 055\n",
    "056 057 058 059 ... 082 083\n",
    " |   |   |   |  ...  |   |\n",
    "728 729 730 731 ... 754 755\n",
    "756 757 758 759 ... 782 783 \n",
    "```"
   ]
  },
  {
   "cell_type": "markdown",
   "metadata": {
    "colab_type": "text",
    "id": "-3hGXfqVDRna"
   },
   "source": [
    "## Get Data"
   ]
  },
  {
   "cell_type": "code",
   "execution_count": 1,
   "metadata": {
    "colab": {
     "base_uri": "https://localhost:8080/",
     "height": 71
    },
    "colab_type": "code",
    "executionInfo": {
     "elapsed": 1119,
     "status": "ok",
     "timestamp": 1596185842341,
     "user": {
      "displayName": "Minh Do",
      "photoUrl": "https://lh3.googleusercontent.com/a-/AOh14GhnQ6aJ2YnaevyJzhii-qGws6Y17w-cwWLqF5iP=s64",
      "userId": "12822549848477954436"
     },
     "user_tz": -420
    },
    "id": "4IWx_-bBEYAT",
    "outputId": "12b0f595-15a1-40f8-8925-22322593911c"
   },
   "outputs": [
    {
     "name": "stderr",
     "output_type": "stream",
     "text": [
      "/usr/local/lib/python3.6/dist-packages/statsmodels/tools/_testing.py:19: FutureWarning: pandas.util.testing is deprecated. Use the functions in the public API at pandas.testing instead.\n",
      "  import pandas.util.testing as tm\n"
     ]
    }
   ],
   "source": [
    "import numpy as np\n",
    "import pandas as pd\n",
    "import seaborn as sns\n",
    "import matplotlib.pyplot as plt\n",
    "%matplotlib inline\n",
    "\n",
    "import warnings\n",
    "warnings.filterwarnings('ignore')\n",
    "\n",
    "sns.set_style(\"whitegrid\")"
   ]
  },
  {
   "cell_type": "code",
   "execution_count": 2,
   "metadata": {
    "colab": {
     "base_uri": "https://localhost:8080/",
     "height": 51
    },
    "colab_type": "code",
    "executionInfo": {
     "elapsed": 3516,
     "status": "ok",
     "timestamp": 1596185844746,
     "user": {
      "displayName": "Minh Do",
      "photoUrl": "https://lh3.googleusercontent.com/a-/AOh14GhnQ6aJ2YnaevyJzhii-qGws6Y17w-cwWLqF5iP=s64",
      "userId": "12822549848477954436"
     },
     "user_tz": -420
    },
    "id": "BNhUbXb9CSbh",
    "outputId": "f1bcde6a-c67e-4241-9aea-349ed947008a"
   },
   "outputs": [
    {
     "name": "stdout",
     "output_type": "stream",
     "text": [
      "Training data: (60000, 28, 28) (60000,)\n",
      "Test data: (10000, 28, 28) (10000,)\n"
     ]
    }
   ],
   "source": [
    "from tensorflow.keras.datasets import mnist\n",
    "\n",
    "(X_train, y_train), (X_test, y_test) = mnist.load_data()\n",
    "\n",
    "print('Training data:', X_train.shape, y_train.shape)\n",
    "print('Test data:', X_test.shape, y_test.shape)"
   ]
  },
  {
   "cell_type": "markdown",
   "metadata": {
    "colab_type": "text",
    "id": "VYTtM9VlGs31"
   },
   "source": [
    "## EDA"
   ]
  },
  {
   "cell_type": "code",
   "execution_count": 3,
   "metadata": {
    "colab": {},
    "colab_type": "code",
    "executionInfo": {
     "elapsed": 3510,
     "status": "ok",
     "timestamp": 1596185844747,
     "user": {
      "displayName": "Minh Do",
      "photoUrl": "https://lh3.googleusercontent.com/a-/AOh14GhnQ6aJ2YnaevyJzhii-qGws6Y17w-cwWLqF5iP=s64",
      "userId": "12822549848477954436"
     },
     "user_tz": -420
    },
    "id": "xcZURSKuDcvm"
   },
   "outputs": [],
   "source": [
    "def plot_images(images, labels):\n",
    "    '''Plot images with their labels. Ten each row'''\n",
    "    plt.figure(figsize=(20, 10))\n",
    "    columns = 10\n",
    "    for i, image in enumerate(images):\n",
    "        ax = plt.subplot(len(images) / columns + 1, columns, i + 1)\n",
    "        ax.set_title(f\"{labels[i]}\", fontsize=16)\n",
    "        plt.axis('off')\n",
    "        plt.subplots_adjust(bottom=0.1)\n",
    "        plt.imshow(image, cmap='gray')\n",
    "\n",
    "def get_samples(n_samples, X, y):\n",
    "    '''Get n_samples images randomly'''\n",
    "    samples = np.random.choice(np.arange(len(y)), n_samples, replace=False)\n",
    "    return X[samples], y[samples]\n",
    "\n",
    "def get_digit(digit, n_samples, X, y):\n",
    "    '''Get n_samples images of the class digit randomly'''\n",
    "    y_digit = y[y == digit]\n",
    "    samples = np.random.choice(np.arange(len(y_digit)), n_samples, replace=False)\n",
    "    return X[y == digit][samples], y_digit[samples]"
   ]
  },
  {
   "cell_type": "code",
   "execution_count": 4,
   "metadata": {
    "colab": {
     "base_uri": "https://localhost:8080/",
     "height": 330
    },
    "colab_type": "code",
    "executionInfo": {
     "elapsed": 8566,
     "status": "ok",
     "timestamp": 1596185849808,
     "user": {
      "displayName": "Minh Do",
      "photoUrl": "https://lh3.googleusercontent.com/a-/AOh14GhnQ6aJ2YnaevyJzhii-qGws6Y17w-cwWLqF5iP=s64",
      "userId": "12822549848477954436"
     },
     "user_tz": -420
    },
    "id": "OpMe7EMCEF01",
    "outputId": "99c27f04-1dde-45eb-b858-2a9fd68968b1"
   },
   "outputs": [
    {
     "data": {
      "image/png": "[encoded data removed]",
      "text/plain": [
       "<Figure size 1440x720 with 30 Axes>"
      ]
     },
     "metadata": {
      "needs_background": "light",
      "tags": []
     },
     "output_type": "display_data"
    }
   ],
   "source": [
    "n_samples = 30\n",
    "# images, labels = get_samples(n_samples, X_train, y_train)\n",
    "images, labels = get_digit(1, n_samples, X_train, y_train)\n",
    "plot_images(images, labels)"
   ]
  },
  {
   "cell_type": "markdown",
   "metadata": {
    "colab_type": "text",
    "id": "7Ld_PUJxrzN1"
   },
   "source": [
    "**Plot the barplot of number of images of each class (0 to 9)**"
   ]
  },
  {
   "cell_type": "code",
   "execution_count": 5,
   "metadata": {
    "colab": {
     "base_uri": "https://localhost:8080/",
     "height": 282
    },
    "colab_type": "code",
    "executionInfo": {
     "elapsed": 8559,
     "status": "ok",
     "timestamp": 1596185849809,
     "user": {
      "displayName": "Minh Do",
      "photoUrl": "https://lh3.googleusercontent.com/a-/AOh14GhnQ6aJ2YnaevyJzhii-qGws6Y17w-cwWLqF5iP=s64",
      "userId": "12822549848477954436"
     },
     "user_tz": -420
    },
    "id": "xjVYEat8EJTd",
    "outputId": "01234f05-5b6e-4b20-f53b-dc4d1ea0df93"
   },
   "outputs": [
    {
     "data": {
      "text/plain": [
       "<matplotlib.axes._subplots.AxesSubplot at 0x7f13bdd63b38>"
      ]
     },
     "execution_count": 5,
     "metadata": {
      "tags": []
     },
     "output_type": "execute_result"
    },
    {
     "data": {
      "image/png": "[encoded data removed]",
      "text/plain": [
       "<Figure size 432x288 with 1 Axes>"
      ]
     },
     "metadata": {
      "needs_background": "light",
      "tags": []
     },
     "output_type": "display_data"
    }
   ],
   "source": [
    "# Your code here\n",
    "sns.countplot(y_test)"
   ]
  },
  {
   "cell_type": "markdown",
   "metadata": {
    "colab_type": "text",
    "id": "7M_TfQZUrzOG"
   },
   "source": [
    "**Print out the range of pixel values (min, max)**"
   ]
  },
  {
   "cell_type": "code",
   "execution_count": 6,
   "metadata": {
    "colab": {
     "base_uri": "https://localhost:8080/",
     "height": 34
    },
    "colab_type": "code",
    "executionInfo": {
     "elapsed": 8551,
     "status": "ok",
     "timestamp": 1596185849809,
     "user": {
      "displayName": "Minh Do",
      "photoUrl": "https://lh3.googleusercontent.com/a-/AOh14GhnQ6aJ2YnaevyJzhii-qGws6Y17w-cwWLqF5iP=s64",
      "userId": "12822549848477954436"
     },
     "user_tz": -420
    },
    "id": "d0rZBlU8FmtE",
    "outputId": "7bb49e85-a1d4-4461-df71-5090ffe75768"
   },
   "outputs": [
    {
     "name": "stdout",
     "output_type": "stream",
     "text": [
      "Pixel value range: 0 255\n"
     ]
    }
   ],
   "source": [
    "# Your code here\n",
    "print('Pixel value range:', X_train.min(), X_train.max())"
   ]
  },
  {
   "cell_type": "markdown",
   "metadata": {
    "colab_type": "text",
    "id": "XC2sFqfcJjQ1"
   },
   "source": [
    "## Transform data for training"
   ]
  },
  {
   "cell_type": "markdown",
   "metadata": {
    "colab_type": "text",
    "id": "6W5AWXE2rzOj"
   },
   "source": [
    "**Get the first `n_samples` images randomly from training set and test set. Then reshape them into long vectors**"
   ]
  },
  {
   "cell_type": "code",
   "execution_count": 7,
   "metadata": {
    "colab": {},
    "colab_type": "code",
    "executionInfo": {
     "elapsed": 8842,
     "status": "ok",
     "timestamp": 1596185850108,
     "user": {
      "displayName": "Minh Do",
      "photoUrl": "https://lh3.googleusercontent.com/a-/AOh14GhnQ6aJ2YnaevyJzhii-qGws6Y17w-cwWLqF5iP=s64",
      "userId": "12822549848477954436"
     },
     "user_tz": -420
    },
    "id": "XF1XGXrvJlri"
   },
   "outputs": [],
   "source": [
    "n_samples = 1000\n",
    "n_test_samples = 200\n",
    "# Your code here\n",
    "X_train_flat, y_train_flat = get_samples(n_samples, X_train, y_train)\n",
    "X_test_flat, y_test_flat = get_samples(n_test_samples, X_test, y_test)\n",
    "\n",
    "# Normalization\n",
    "X_train_flat = X_train_flat.reshape((n_samples, -1))/255\n",
    "X_test_flat = X_test_flat.reshape((n_test_samples, -1))/255"
   ]
  },
  {
   "cell_type": "code",
   "execution_count": 8,
   "metadata": {
    "colab": {
     "base_uri": "https://localhost:8080/",
     "height": 51
    },
    "colab_type": "code",
    "executionInfo": {
     "elapsed": 8837,
     "status": "ok",
     "timestamp": 1596185850109,
     "user": {
      "displayName": "Minh Do",
      "photoUrl": "https://lh3.googleusercontent.com/a-/AOh14GhnQ6aJ2YnaevyJzhii-qGws6Y17w-cwWLqF5iP=s64",
      "userId": "12822549848477954436"
     },
     "user_tz": -420
    },
    "id": "66rNQGgnK1MX",
    "outputId": "f24bd644-775d-4271-fc6f-e459cd274369"
   },
   "outputs": [
    {
     "name": "stdout",
     "output_type": "stream",
     "text": [
      "Training data (1000, 784)\n",
      "Test data (200, 784)\n"
     ]
    }
   ],
   "source": [
    "print('Training data', X_train_flat.shape)\n",
    "print('Test data', X_test_flat.shape)"
   ]
  },
  {
   "cell_type": "code",
   "execution_count": 9,
   "metadata": {
    "colab": {},
    "colab_type": "code",
    "executionInfo": {
     "elapsed": 8829,
     "status": "ok",
     "timestamp": 1596185850109,
     "user": {
      "displayName": "Minh Do",
      "photoUrl": "https://lh3.googleusercontent.com/a-/AOh14GhnQ6aJ2YnaevyJzhii-qGws6Y17w-cwWLqF5iP=s64",
      "userId": "12822549848477954436"
     },
     "user_tz": -420
    },
    "id": "59B4UG39o5N1"
   },
   "outputs": [],
   "source": [
    "# Get all the data\n",
    "# Run it after you finish training with the 1000 samples\n",
    "# X_train_flat = X_train.reshape((-1, 784))\n",
    "# X_test_flat = X_test.reshape((-1, 784))\n",
    "# y_train_flat = y_train\n",
    "# y_test_flat = y_test\n",
    "\n",
    "# print('Training data', X_train_flat.shape)\n",
    "# print('Test data', X_test_flat.shape)\n",
    "# print('Training label', y_train_flat.shape)\n",
    "# print('Test label', y_test_flat.shape)"
   ]
  },
  {
   "cell_type": "markdown",
   "metadata": {
    "colab_type": "text",
    "id": "bmxGMEGGLaJI"
   },
   "source": [
    "## Train models"
   ]
  },
  {
   "cell_type": "code",
   "execution_count": 10,
   "metadata": {
    "colab": {},
    "colab_type": "code",
    "executionInfo": {
     "elapsed": 8821,
     "status": "ok",
     "timestamp": 1596185850110,
     "user": {
      "displayName": "Minh Do",
      "photoUrl": "https://lh3.googleusercontent.com/a-/AOh14GhnQ6aJ2YnaevyJzhii-qGws6Y17w-cwWLqF5iP=s64",
      "userId": "12822549848477954436"
     },
     "user_tz": -420
    },
    "id": "4tJcSPEbLRsh"
   },
   "outputs": [],
   "source": [
    "from sklearn.svm import SVC\n",
    "from sklearn.metrics import confusion_matrix, accuracy_score\n",
    "from sklearn.model_selection import cross_val_score\n",
    "from sklearn.model_selection import GridSearchCV"
   ]
  },
  {
   "cell_type": "markdown",
   "metadata": {
    "colab_type": "text",
    "id": "blM8JAmirzPb"
   },
   "source": [
    "**Train a SVM model**: Set up the training process and train with the small samples of data first before you take the full training dataset to train."
   ]
  },
  {
   "cell_type": "code",
   "execution_count": 11,
   "metadata": {
    "colab": {
     "base_uri": "https://localhost:8080/",
     "height": 85
    },
    "colab_type": "code",
    "executionInfo": {
     "elapsed": 9467,
     "status": "ok",
     "timestamp": 1596185850763,
     "user": {
      "displayName": "Minh Do",
      "photoUrl": "https://lh3.googleusercontent.com/a-/AOh14GhnQ6aJ2YnaevyJzhii-qGws6Y17w-cwWLqF5iP=s64",
      "userId": "12822549848477954436"
     },
     "user_tz": -420
    },
    "id": "CIafedeOrzPe",
    "outputId": "45e56985-e5d3-416d-bf28-16b06af095ef"
   },
   "outputs": [
    {
     "data": {
      "text/plain": [
       "SVC(C=1.0, break_ties=False, cache_size=200, class_weight=None, coef0=0.0,\n",
       "    decision_function_shape='ovr', degree=3, gamma='scale', kernel='linear',\n",
       "    max_iter=-1, probability=False, random_state=None, shrinking=True,\n",
       "    tol=0.001, verbose=False)"
      ]
     },
     "execution_count": 11,
     "metadata": {
      "tags": []
     },
     "output_type": "execute_result"
    }
   ],
   "source": [
    "# Your code here\n",
    "clf = SVC(kernel='linear')\n",
    "clf.fit(X_train_flat, y_train_flat)"
   ]
  },
  {
   "cell_type": "code",
   "execution_count": 12,
   "metadata": {
    "colab": {
     "base_uri": "https://localhost:8080/",
     "height": 221
    },
    "colab_type": "code",
    "executionInfo": {
     "elapsed": 57459,
     "status": "ok",
     "timestamp": 1596185898759,
     "user": {
      "displayName": "Minh Do",
      "photoUrl": "https://lh3.googleusercontent.com/a-/AOh14GhnQ6aJ2YnaevyJzhii-qGws6Y17w-cwWLqF5iP=s64",
      "userId": "12822549848477954436"
     },
     "user_tz": -420
    },
    "id": "ENUgYnAIv7BA",
    "outputId": "bde0e451-2421-43b5-a10c-2edddbfa2e88"
   },
   "outputs": [
    {
     "data": {
      "text/plain": [
       "GridSearchCV(cv=5, error_score=nan,\n",
       "             estimator=SVC(C=1.0, break_ties=False, cache_size=200,\n",
       "                           class_weight=None, coef0=0.0,\n",
       "                           decision_function_shape='ovr', degree=3,\n",
       "                           gamma='scale', kernel='rbf', max_iter=-1,\n",
       "                           probability=False, random_state=None, shrinking=True,\n",
       "                           tol=0.001, verbose=False),\n",
       "             iid='deprecated', n_jobs=-1,\n",
       "             param_grid={'C': [0.01, 0.1, 1, 10, 100],\n",
       "                         'gamma': [0.0001, 0.001, 0.01]},\n",
       "             pre_dispatch='2*n_jobs', refit=True, return_train_score=False,\n",
       "             scoring='accuracy', verbose=0)"
      ]
     },
     "execution_count": 12,
     "metadata": {
      "tags": []
     },
     "output_type": "execute_result"
    }
   ],
   "source": [
    "parameters = {'gamma': [0.0001, 0.001, 0.01],\n",
    "              'C':[0.01, 0.1, 1, 10, 100]}\n",
    "\n",
    "model = SVC(kernel='rbf')\n",
    "\n",
    "gridsearch_models = GridSearchCV(estimator=model,\n",
    "                                 param_grid=parameters,\n",
    "                                 scoring='accuracy',\n",
    "                                 cv=5, n_jobs=-1)\n",
    "\n",
    "gridsearch_models.fit(X_train_flat, y_train_flat)"
   ]
  },
  {
   "cell_type": "code",
   "execution_count": 13,
   "metadata": {
    "colab": {
     "base_uri": "https://localhost:8080/",
     "height": 1000
    },
    "colab_type": "code",
    "executionInfo": {
     "elapsed": 57455,
     "status": "ok",
     "timestamp": 1596185898760,
     "user": {
      "displayName": "Minh Do",
      "photoUrl": "https://lh3.googleusercontent.com/a-/AOh14GhnQ6aJ2YnaevyJzhii-qGws6Y17w-cwWLqF5iP=s64",
      "userId": "12822549848477954436"
     },
     "user_tz": -420
    },
    "id": "xakJOw-uxZZZ",
    "outputId": "2c980b6c-7eb3-44f6-c0ce-910a736d829c"
   },
   "outputs": [
    {
     "data": {
      "text/html": [
       "<div>\n",
       "<style scoped>\n",
       "    .dataframe tbody tr th:only-of-type {\n",
       "        vertical-align: middle;\n",
       "    }\n",
       "\n",
       "    .dataframe tbody tr th {\n",
       "        vertical-align: top;\n",
       "    }\n",
       "\n",
       "    .dataframe thead th {\n",
       "        text-align: right;\n",
       "    }\n",
       "</style>\n",
       "<table border=\"1\" class=\"dataframe\">\n",
       "  <thead>\n",
       "    <tr style=\"text-align: right;\">\n",
       "      <th></th>\n",
       "      <th>mean_fit_time</th>\n",
       "      <th>std_fit_time</th>\n",
       "      <th>mean_score_time</th>\n",
       "      <th>std_score_time</th>\n",
       "      <th>param_C</th>\n",
       "      <th>param_gamma</th>\n",
       "      <th>params</th>\n",
       "      <th>split0_test_score</th>\n",
       "      <th>split1_test_score</th>\n",
       "      <th>split2_test_score</th>\n",
       "      <th>split3_test_score</th>\n",
       "      <th>split4_test_score</th>\n",
       "      <th>mean_test_score</th>\n",
       "      <th>std_test_score</th>\n",
       "      <th>rank_test_score</th>\n",
       "    </tr>\n",
       "  </thead>\n",
       "  <tbody>\n",
       "    <tr>\n",
       "      <th>0</th>\n",
       "      <td>1.394780</td>\n",
       "      <td>0.009042</td>\n",
       "      <td>0.213296</td>\n",
       "      <td>0.007233</td>\n",
       "      <td>0.01</td>\n",
       "      <td>0.0001</td>\n",
       "      <td>{'C': 0.01, 'gamma': 0.0001}</td>\n",
       "      <td>0.140</td>\n",
       "      <td>0.140</td>\n",
       "      <td>0.140</td>\n",
       "      <td>0.140</td>\n",
       "      <td>0.135</td>\n",
       "      <td>0.139</td>\n",
       "      <td>0.002000</td>\n",
       "      <td>11</td>\n",
       "    </tr>\n",
       "    <tr>\n",
       "      <th>1</th>\n",
       "      <td>1.416430</td>\n",
       "      <td>0.007451</td>\n",
       "      <td>0.210135</td>\n",
       "      <td>0.001330</td>\n",
       "      <td>0.01</td>\n",
       "      <td>0.001</td>\n",
       "      <td>{'C': 0.01, 'gamma': 0.001}</td>\n",
       "      <td>0.140</td>\n",
       "      <td>0.140</td>\n",
       "      <td>0.140</td>\n",
       "      <td>0.140</td>\n",
       "      <td>0.135</td>\n",
       "      <td>0.139</td>\n",
       "      <td>0.002000</td>\n",
       "      <td>11</td>\n",
       "    </tr>\n",
       "    <tr>\n",
       "      <th>2</th>\n",
       "      <td>1.442893</td>\n",
       "      <td>0.016363</td>\n",
       "      <td>0.216086</td>\n",
       "      <td>0.009372</td>\n",
       "      <td>0.01</td>\n",
       "      <td>0.01</td>\n",
       "      <td>{'C': 0.01, 'gamma': 0.01}</td>\n",
       "      <td>0.140</td>\n",
       "      <td>0.140</td>\n",
       "      <td>0.140</td>\n",
       "      <td>0.140</td>\n",
       "      <td>0.135</td>\n",
       "      <td>0.139</td>\n",
       "      <td>0.002000</td>\n",
       "      <td>11</td>\n",
       "    </tr>\n",
       "    <tr>\n",
       "      <th>3</th>\n",
       "      <td>1.422161</td>\n",
       "      <td>0.014476</td>\n",
       "      <td>0.210652</td>\n",
       "      <td>0.001840</td>\n",
       "      <td>0.1</td>\n",
       "      <td>0.0001</td>\n",
       "      <td>{'C': 0.1, 'gamma': 0.0001}</td>\n",
       "      <td>0.140</td>\n",
       "      <td>0.140</td>\n",
       "      <td>0.140</td>\n",
       "      <td>0.140</td>\n",
       "      <td>0.135</td>\n",
       "      <td>0.139</td>\n",
       "      <td>0.002000</td>\n",
       "      <td>11</td>\n",
       "    </tr>\n",
       "    <tr>\n",
       "      <th>4</th>\n",
       "      <td>1.419243</td>\n",
       "      <td>0.012761</td>\n",
       "      <td>0.218042</td>\n",
       "      <td>0.010284</td>\n",
       "      <td>0.1</td>\n",
       "      <td>0.001</td>\n",
       "      <td>{'C': 0.1, 'gamma': 0.001}</td>\n",
       "      <td>0.140</td>\n",
       "      <td>0.140</td>\n",
       "      <td>0.140</td>\n",
       "      <td>0.140</td>\n",
       "      <td>0.135</td>\n",
       "      <td>0.139</td>\n",
       "      <td>0.002000</td>\n",
       "      <td>11</td>\n",
       "    </tr>\n",
       "    <tr>\n",
       "      <th>5</th>\n",
       "      <td>1.314748</td>\n",
       "      <td>0.009534</td>\n",
       "      <td>0.206005</td>\n",
       "      <td>0.002907</td>\n",
       "      <td>0.1</td>\n",
       "      <td>0.01</td>\n",
       "      <td>{'C': 0.1, 'gamma': 0.01}</td>\n",
       "      <td>0.705</td>\n",
       "      <td>0.720</td>\n",
       "      <td>0.740</td>\n",
       "      <td>0.725</td>\n",
       "      <td>0.720</td>\n",
       "      <td>0.722</td>\n",
       "      <td>0.011225</td>\n",
       "      <td>9</td>\n",
       "    </tr>\n",
       "    <tr>\n",
       "      <th>6</th>\n",
       "      <td>1.410900</td>\n",
       "      <td>0.006344</td>\n",
       "      <td>0.211462</td>\n",
       "      <td>0.003831</td>\n",
       "      <td>1</td>\n",
       "      <td>0.0001</td>\n",
       "      <td>{'C': 1, 'gamma': 0.0001}</td>\n",
       "      <td>0.145</td>\n",
       "      <td>0.150</td>\n",
       "      <td>0.140</td>\n",
       "      <td>0.140</td>\n",
       "      <td>0.135</td>\n",
       "      <td>0.142</td>\n",
       "      <td>0.005099</td>\n",
       "      <td>10</td>\n",
       "    </tr>\n",
       "    <tr>\n",
       "      <th>7</th>\n",
       "      <td>1.033816</td>\n",
       "      <td>0.027308</td>\n",
       "      <td>0.192276</td>\n",
       "      <td>0.004185</td>\n",
       "      <td>1</td>\n",
       "      <td>0.001</td>\n",
       "      <td>{'C': 1, 'gamma': 0.001}</td>\n",
       "      <td>0.815</td>\n",
       "      <td>0.795</td>\n",
       "      <td>0.805</td>\n",
       "      <td>0.800</td>\n",
       "      <td>0.795</td>\n",
       "      <td>0.802</td>\n",
       "      <td>0.007483</td>\n",
       "      <td>8</td>\n",
       "    </tr>\n",
       "    <tr>\n",
       "      <th>8</th>\n",
       "      <td>0.705093</td>\n",
       "      <td>0.008762</td>\n",
       "      <td>0.160254</td>\n",
       "      <td>0.002088</td>\n",
       "      <td>1</td>\n",
       "      <td>0.01</td>\n",
       "      <td>{'C': 1, 'gamma': 0.01}</td>\n",
       "      <td>0.920</td>\n",
       "      <td>0.930</td>\n",
       "      <td>0.920</td>\n",
       "      <td>0.875</td>\n",
       "      <td>0.905</td>\n",
       "      <td>0.910</td>\n",
       "      <td>0.019235</td>\n",
       "      <td>3</td>\n",
       "    </tr>\n",
       "    <tr>\n",
       "      <th>9</th>\n",
       "      <td>0.992786</td>\n",
       "      <td>0.006685</td>\n",
       "      <td>0.188095</td>\n",
       "      <td>0.002798</td>\n",
       "      <td>10</td>\n",
       "      <td>0.0001</td>\n",
       "      <td>{'C': 10, 'gamma': 0.0001}</td>\n",
       "      <td>0.820</td>\n",
       "      <td>0.795</td>\n",
       "      <td>0.815</td>\n",
       "      <td>0.810</td>\n",
       "      <td>0.795</td>\n",
       "      <td>0.807</td>\n",
       "      <td>0.010296</td>\n",
       "      <td>7</td>\n",
       "    </tr>\n",
       "    <tr>\n",
       "      <th>10</th>\n",
       "      <td>0.515405</td>\n",
       "      <td>0.007001</td>\n",
       "      <td>0.144531</td>\n",
       "      <td>0.001077</td>\n",
       "      <td>10</td>\n",
       "      <td>0.001</td>\n",
       "      <td>{'C': 10, 'gamma': 0.001}</td>\n",
       "      <td>0.910</td>\n",
       "      <td>0.900</td>\n",
       "      <td>0.925</td>\n",
       "      <td>0.860</td>\n",
       "      <td>0.895</td>\n",
       "      <td>0.898</td>\n",
       "      <td>0.021587</td>\n",
       "      <td>5</td>\n",
       "    </tr>\n",
       "    <tr>\n",
       "      <th>11</th>\n",
       "      <td>0.701774</td>\n",
       "      <td>0.011574</td>\n",
       "      <td>0.161367</td>\n",
       "      <td>0.006703</td>\n",
       "      <td>10</td>\n",
       "      <td>0.01</td>\n",
       "      <td>{'C': 10, 'gamma': 0.01}</td>\n",
       "      <td>0.925</td>\n",
       "      <td>0.915</td>\n",
       "      <td>0.950</td>\n",
       "      <td>0.880</td>\n",
       "      <td>0.910</td>\n",
       "      <td>0.916</td>\n",
       "      <td>0.022672</td>\n",
       "      <td>1</td>\n",
       "    </tr>\n",
       "    <tr>\n",
       "      <th>12</th>\n",
       "      <td>0.511117</td>\n",
       "      <td>0.020896</td>\n",
       "      <td>0.141799</td>\n",
       "      <td>0.001072</td>\n",
       "      <td>100</td>\n",
       "      <td>0.0001</td>\n",
       "      <td>{'C': 100, 'gamma': 0.0001}</td>\n",
       "      <td>0.910</td>\n",
       "      <td>0.900</td>\n",
       "      <td>0.925</td>\n",
       "      <td>0.860</td>\n",
       "      <td>0.895</td>\n",
       "      <td>0.898</td>\n",
       "      <td>0.021587</td>\n",
       "      <td>5</td>\n",
       "    </tr>\n",
       "    <tr>\n",
       "      <th>13</th>\n",
       "      <td>0.457630</td>\n",
       "      <td>0.007699</td>\n",
       "      <td>0.133830</td>\n",
       "      <td>0.003499</td>\n",
       "      <td>100</td>\n",
       "      <td>0.001</td>\n",
       "      <td>{'C': 100, 'gamma': 0.001}</td>\n",
       "      <td>0.900</td>\n",
       "      <td>0.905</td>\n",
       "      <td>0.940</td>\n",
       "      <td>0.895</td>\n",
       "      <td>0.895</td>\n",
       "      <td>0.907</td>\n",
       "      <td>0.016912</td>\n",
       "      <td>4</td>\n",
       "    </tr>\n",
       "    <tr>\n",
       "      <th>14</th>\n",
       "      <td>0.700751</td>\n",
       "      <td>0.005066</td>\n",
       "      <td>0.156515</td>\n",
       "      <td>0.004574</td>\n",
       "      <td>100</td>\n",
       "      <td>0.01</td>\n",
       "      <td>{'C': 100, 'gamma': 0.01}</td>\n",
       "      <td>0.925</td>\n",
       "      <td>0.915</td>\n",
       "      <td>0.950</td>\n",
       "      <td>0.880</td>\n",
       "      <td>0.910</td>\n",
       "      <td>0.916</td>\n",
       "      <td>0.022672</td>\n",
       "      <td>1</td>\n",
       "    </tr>\n",
       "  </tbody>\n",
       "</table>\n",
       "</div>"
      ],
      "text/plain": [
       "    mean_fit_time  std_fit_time  ...  std_test_score  rank_test_score\n",
       "0        1.394780      0.009042  ...        0.002000               11\n",
       "1        1.416430      0.007451  ...        0.002000               11\n",
       "2        1.442893      0.016363  ...        0.002000               11\n",
       "3        1.422161      0.014476  ...        0.002000               11\n",
       "4        1.419243      0.012761  ...        0.002000               11\n",
       "5        1.314748      0.009534  ...        0.011225                9\n",
       "6        1.410900      0.006344  ...        0.005099               10\n",
       "7        1.033816      0.027308  ...        0.007483                8\n",
       "8        0.705093      0.008762  ...        0.019235                3\n",
       "9        0.992786      0.006685  ...        0.010296                7\n",
       "10       0.515405      0.007001  ...        0.021587                5\n",
       "11       0.701774      0.011574  ...        0.022672                1\n",
       "12       0.511117      0.020896  ...        0.021587                5\n",
       "13       0.457630      0.007699  ...        0.016912                4\n",
       "14       0.700751      0.005066  ...        0.022672                1\n",
       "\n",
       "[15 rows x 15 columns]"
      ]
     },
     "execution_count": 13,
     "metadata": {
      "tags": []
     },
     "output_type": "execute_result"
    }
   ],
   "source": [
    "pd.DataFrame(gridsearch_models.cv_results_)"
   ]
  },
  {
   "cell_type": "code",
   "execution_count": 14,
   "metadata": {
    "colab": {
     "base_uri": "https://localhost:8080/",
     "height": 51
    },
    "colab_type": "code",
    "executionInfo": {
     "elapsed": 57450,
     "status": "ok",
     "timestamp": 1596185898760,
     "user": {
      "displayName": "Minh Do",
      "photoUrl": "https://lh3.googleusercontent.com/a-/AOh14GhnQ6aJ2YnaevyJzhii-qGws6Y17w-cwWLqF5iP=s64",
      "userId": "12822549848477954436"
     },
     "user_tz": -420
    },
    "id": "DtTjXahsxpgh",
    "outputId": "bfab6544-2532-4981-db5f-e4f4090fdb8a"
   },
   "outputs": [
    {
     "name": "stdout",
     "output_type": "stream",
     "text": [
      "Best params {'C': 10, 'gamma': 0.01}\n",
      "Best score 0.916\n"
     ]
    }
   ],
   "source": [
    "print('Best params', gridsearch_models.best_params_)\n",
    "print('Best score', gridsearch_models.best_score_)"
   ]
  },
  {
   "cell_type": "code",
   "execution_count": 15,
   "metadata": {
    "colab": {},
    "colab_type": "code",
    "executionInfo": {
     "elapsed": 57447,
     "status": "ok",
     "timestamp": 1596185898761,
     "user": {
      "displayName": "Minh Do",
      "photoUrl": "https://lh3.googleusercontent.com/a-/AOh14GhnQ6aJ2YnaevyJzhii-qGws6Y17w-cwWLqF5iP=s64",
      "userId": "12822549848477954436"
     },
     "user_tz": -420
    },
    "id": "yYoBam-Mx0xF"
   },
   "outputs": [],
   "source": [
    "best_model = gridsearch_models.best_estimator_"
   ]
  }
 ],
 "metadata": {
  "colab": {
   "collapsed_sections": [],
   "name": "Week6-Lab-Solution.ipynb",
   "provenance": []
  },
  "kernelspec": {
   "display_name": "Python 3",
   "language": "python",
   "name": "python3"
  },
  "language_info": {
   "codemirror_mode": {
    "name": "ipython",
    "version": 3
   },
   "file_extension": ".py",
   "mimetype": "text/x-python",
   "name": "python",
   "nbconvert_exporter": "python",
   "pygments_lexer": "ipython3",
   "version": "3.8.3"
  }
 },
 "nbformat": 4,
 "nbformat_minor": 1
}
